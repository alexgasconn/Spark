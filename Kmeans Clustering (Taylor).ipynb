{
 "cells": [
  {
   "cell_type": "code",
   "execution_count": 1,
   "id": "314a69b3",
   "metadata": {},
   "outputs": [],
   "source": [
    "from pyspark.sql import SparkSession\n",
    "from pyspark.ml.feature import VectorAssembler\n",
    "from pyspark.ml.clustering import KMeans\n",
    "import matplotlib.pyplot as plt\n",
    "\n",
    "# Inicia la sesión de Spark\n",
    "spark = SparkSession.builder.appName(\"TaylorDataClustering\").getOrCreate()\n",
    "\n",
    "# Carga los datos desde el CSV\n",
    "data = spark.read.csv(\"taylor.csv\", header=True, inferSchema=True, sep=\";\")"
   ]
  },
  {
   "cell_type": "code",
   "execution_count": 2,
   "id": "13dfe5cf",
   "metadata": {},
   "outputs": [
    {
     "data": {
      "text/plain": [
       "[Row(album='Taylor Swift', title='Tim McGraw', year=2006, duration=datetime.datetime(2024, 2, 9, 3, 52), spotify=102, youtube='50', grade='7,9'),\n",
       " Row(album='Taylor Swift', title='Picture To Burn', year=2008, duration=datetime.datetime(2024, 2, 9, 2, 53), spotify=143, youtube='118', grade='8,85')]"
      ]
     },
     "execution_count": 2,
     "metadata": {},
     "output_type": "execute_result"
    }
   ],
   "source": [
    "data.head(2)"
   ]
  },
  {
   "cell_type": "code",
   "execution_count": 3,
   "id": "438c437f",
   "metadata": {},
   "outputs": [],
   "source": [
    "from pyspark.sql.functions import hour, minute, second, col, to_date, day, month, to_timestamp\n",
    "\n",
    "data = data.withColumn(\"duration\", to_timestamp(col(\"duration\"), \"dd/MM/yyyy HH:mm:ss\"))\n",
    "data = data.withColumn(\"minutes\", hour(col(\"duration\")))\n",
    "data = data.withColumn(\"seconds\", minute(col(\"duration\")))\n",
    "data = data.withColumn(\"duration\", col(\"minutes\") * 60 + col(\"seconds\"))"
   ]
  },
  {
   "cell_type": "code",
   "execution_count": 4,
   "id": "2909da1d",
   "metadata": {},
   "outputs": [],
   "source": [
    "from pyspark.sql.functions import regexp_replace\n",
    "\n",
    "data = data.withColumn(\"grade\", regexp_replace(\"grade\", \",\", \".\"))\n",
    "data = data.withColumn(\"grade\", data[\"grade\"].cast(\"double\"))\n",
    "data = data.withColumn(\"youtube\", data[\"youtube\"].cast(\"integer\"))\n",
    "data = data.withColumn(\"spotify\", data[\"spotify\"].cast(\"integer\"))"
   ]
  },
  {
   "cell_type": "code",
   "execution_count": 5,
   "id": "d0c3ac9f",
   "metadata": {},
   "outputs": [
    {
     "name": "stdout",
     "output_type": "stream",
     "text": [
      "['album', 'title', 'year', 'duration', 'spotify', 'youtube', 'grade', 'minutes', 'seconds']\n",
      "root\n",
      " |-- album: string (nullable = true)\n",
      " |-- title: string (nullable = true)\n",
      " |-- year: integer (nullable = true)\n",
      " |-- duration: integer (nullable = true)\n",
      " |-- spotify: integer (nullable = true)\n",
      " |-- youtube: integer (nullable = true)\n",
      " |-- grade: double (nullable = true)\n",
      " |-- minutes: integer (nullable = true)\n",
      " |-- seconds: integer (nullable = true)\n",
      "\n",
      "None\n"
     ]
    }
   ],
   "source": [
    "print(data.columns)\n",
    "print(data.printSchema())"
   ]
  },
  {
   "cell_type": "code",
   "execution_count": 6,
   "id": "a42877de",
   "metadata": {},
   "outputs": [
    {
     "name": "stdout",
     "output_type": "stream",
     "text": [
      "root\n",
      " |-- album: string (nullable = true)\n",
      " |-- title: string (nullable = true)\n",
      " |-- year: integer (nullable = true)\n",
      " |-- duration: integer (nullable = true)\n",
      " |-- spotify: integer (nullable = true)\n",
      " |-- youtube: integer (nullable = true)\n",
      " |-- grade: double (nullable = true)\n",
      " |-- minutes: integer (nullable = true)\n",
      " |-- seconds: integer (nullable = true)\n",
      "\n"
     ]
    }
   ],
   "source": [
    "# Elimina las filas con valores nulos\n",
    "data = data.dropna()\n",
    "\n",
    "data.printSchema()"
   ]
  },
  {
   "cell_type": "code",
   "execution_count": 7,
   "id": "94cc8fa8",
   "metadata": {},
   "outputs": [],
   "source": [
    "# Selecciona las columnas relevantes\n",
    "data = data.select(\"duration\", \"grade\")\n",
    "\n",
    "# Convierte los datos a un formato adecuado para KMeans\n",
    "assembler = VectorAssembler(inputCols=data.columns, outputCol=\"features\")\n",
    "final_data = assembler.transform(data)"
   ]
  },
  {
   "cell_type": "code",
   "execution_count": 8,
   "id": "5868a541",
   "metadata": {},
   "outputs": [],
   "source": [
    "# Instancia el modelo KMeans con el número deseado de clusters\n",
    "k_value = 5\n",
    "kmeans = KMeans(featuresCol=\"features\", k=k_value)\n",
    "\n",
    "# Entrena el modelo\n",
    "model = kmeans.fit(final_data)"
   ]
  },
  {
   "cell_type": "code",
   "execution_count": 9,
   "id": "3a45afaf",
   "metadata": {},
   "outputs": [
    {
     "name": "stdout",
     "output_type": "stream",
     "text": [
      "+--------+-----+-------------+----------+\n",
      "|duration|grade|     features|prediction|\n",
      "+--------+-----+-------------+----------+\n",
      "|     232|  7.9|  [232.0,7.9]|         4|\n",
      "|     173| 8.85| [173.0,8.85]|         0|\n",
      "|     203|  8.7|  [203.0,8.7]|         0|\n",
      "|     242| 8.35| [242.0,8.35]|         4|\n",
      "|     201| 8.65| [201.0,8.65]|         0|\n",
      "|     213|  8.6|  [213.0,8.6]|         0|\n",
      "|     241|9.725|[241.0,9.725]|         4|\n",
      "|     294|  7.6|  [294.0,7.6]|         3|\n",
      "|     235| 9.45| [235.0,9.45]|         4|\n",
      "|     234|  8.2|  [234.0,8.2]|         4|\n",
      "|     231| 9.74| [231.0,9.74]|         4|\n",
      "|     261|  7.2|  [261.0,7.2]|         3|\n",
      "|     243| 9.65| [243.0,9.65]|         4|\n",
      "|     245|  6.9|  [245.0,6.9]|         4|\n",
      "|     279| 7.65| [279.0,7.65]|         3|\n",
      "|     237| 7.35| [237.0,7.35]|         4|\n",
      "|     263| 7.45| [263.0,7.45]|         3|\n",
      "|     277|  9.2|  [277.0,9.2]|         3|\n",
      "|     237| 8.75| [237.0,8.75]|         4|\n",
      "|     231|  9.2|  [231.0,9.2]|         4|\n",
      "+--------+-----+-------------+----------+\n",
      "only showing top 20 rows\n",
      "\n"
     ]
    }
   ],
   "source": [
    "# Obtiene las etiquetas de los clusters\n",
    "predictions = model.transform(final_data)\n",
    "\n",
    "# Visualiza los resultados\n",
    "predictions.show()"
   ]
  },
  {
   "cell_type": "code",
   "execution_count": 10,
   "id": "3e3beb69",
   "metadata": {},
   "outputs": [
    {
     "data": {
      "image/png": "[encoded data removed]",
      "text/plain": [
       "<Figure size 640x480 with 1 Axes>"
      ]
     },
     "metadata": {},
     "output_type": "display_data"
    }
   ],
   "source": [
    "# Grafica los clusters\n",
    "centers = model.clusterCenters()\n",
    "plt.scatter(predictions.select(predictions.columns[0]).collect(),\n",
    "            predictions.select(predictions.columns[1]).collect(),\n",
    "            c=predictions.select('prediction').collect(),\n",
    "            cmap='viridis')\n",
    "plt.scatter([c[0] for c in centers], [c[1] for c in centers], c='red', marker='x')\n",
    "plt.xlabel(predictions.columns[0])\n",
    "plt.ylabel(predictions.columns[1])\n",
    "plt.title('KMeans Clustering')\n",
    "plt.show()"
   ]
  },
  {
   "cell_type": "code",
   "execution_count": 11,
   "id": "8e0e31d1",
   "metadata": {},
   "outputs": [
    {
     "name": "stdout",
     "output_type": "stream",
     "text": [
      "k = 5\n",
      "Within Set Sum of Squared Errors = 34228.25580191216\n",
      "Silhouette with squared euclidean distance = 0.6999635153863457\n"
     ]
    }
   ],
   "source": [
    "from pyspark.ml.evaluation import ClusteringEvaluator\n",
    "print(\"k = \" + str(k_value))\n",
    "\n",
    "# Calcula WSSSE (cuanto menor, mejor)\n",
    "wssse = model.summary.trainingCost\n",
    "print(\"Within Set Sum of Squared Errors = \" + str(wssse))\n",
    "\n",
    "# Calcula el coeficiente de Silhouette (1=buen cluster, -1=mal cluster)\n",
    "evaluator = ClusteringEvaluator()\n",
    "silhouette = evaluator.evaluate(predictions)\n",
    "print(\"Silhouette with squared euclidean distance = \" + str(silhouette))\n"
   ]
  },
  {
   "cell_type": "code",
   "execution_count": 12,
   "id": "73f0f2dc",
   "metadata": {},
   "outputs": [],
   "source": [
    "# Guarda los datos con las etiquetas de los clusters en un nuevo CSV\n",
    "predictions.select('duration', 'grade', 'prediction').toPandas().to_csv('taylor_clustered.csv', index=False)"
   ]
  }
 ],
 "metadata": {
  "kernelspec": {
   "display_name": "Python 3 (ipykernel)",
   "language": "python",
   "name": "python3"
  },
  "language_info": {
   "codemirror_mode": {
    "name": "ipython",
    "version": 3
   },
   "file_extension": ".py",
   "mimetype": "text/x-python",
   "name": "python",
   "nbconvert_exporter": "python",
   "pygments_lexer": "ipython3",
   "version": "3.10.9"
  }
 },
 "nbformat": 4,
 "nbformat_minor": 5
}
