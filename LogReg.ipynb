{
 "cells": [
  {
   "cell_type": "code",
   "execution_count": 11,
   "id": "779d3231",
   "metadata": {},
   "outputs": [
    {
     "data": {
      "text/plain": [
       "Row(Names='Cameron Williams', Age=42.0, Total_Purchase=11066.8, Account_Manager=0, Years=7.22, Num_Sites=8.0, Onboard_date=datetime.datetime(2013, 8, 30, 7, 0, 40), Location='10265 Elizabeth Mission Barkerburgh, AK 89518', Company='Harvey LLC', Churn=1)"
      ]
     },
     "execution_count": 11,
     "metadata": {},
     "output_type": "execute_result"
    }
   ],
   "source": [
    "from pyspark.sql import SparkSession\n",
    "spark = SparkSession.builder.appName(\"logregconsult\").getOrCreate()\n",
    "data = spark.read.csv(\"customer_churn.csv\", header=True, inferSchema=True)\n",
    "data.head()"
   ]
  },
  {
   "cell_type": "code",
   "execution_count": 14,
   "id": "2f8e702b",
   "metadata": {},
   "outputs": [
    {
     "name": "stdout",
     "output_type": "stream",
     "text": [
      "['Names', 'Age', 'Total_Purchase', 'Account_Manager', 'Years', 'Num_Sites', 'Onboard_date', 'Location', 'Company', 'Churn']\n",
      "\n",
      "\n",
      "root\n",
      " |-- Names: string (nullable = true)\n",
      " |-- Age: double (nullable = true)\n",
      " |-- Total_Purchase: double (nullable = true)\n",
      " |-- Account_Manager: integer (nullable = true)\n",
      " |-- Years: double (nullable = true)\n",
      " |-- Num_Sites: double (nullable = true)\n",
      " |-- Onboard_date: timestamp (nullable = true)\n",
      " |-- Location: string (nullable = true)\n",
      " |-- Company: string (nullable = true)\n",
      " |-- Churn: integer (nullable = true)\n",
      "\n",
      "None\n"
     ]
    }
   ],
   "source": [
    "print(data.columns)\n",
    "print(\"\\n\")\n",
    "print(data.printSchema())"
   ]
  },
  {
   "cell_type": "code",
   "execution_count": 20,
   "id": "2d71c77f",
   "metadata": {},
   "outputs": [],
   "source": [
    "from pyspark.ml.feature import VectorAssembler\n",
    "\n",
    "assembler = VectorAssembler(inputCols=['Age', 'Total_Purchase', 'Account_Manager', 'Years', 'Num_Sites'], outputCol=\"features\")\n",
    "output = assembler.transform(data)"
   ]
  },
  {
   "cell_type": "code",
   "execution_count": 21,
   "id": "be233d67",
   "metadata": {},
   "outputs": [
    {
     "name": "stdout",
     "output_type": "stream",
     "text": [
      "+--------------------+-----+\n",
      "|            features|churn|\n",
      "+--------------------+-----+\n",
      "|[42.0,11066.8,0.0...|    1|\n",
      "|[41.0,11916.22,0....|    1|\n",
      "|[38.0,12884.75,0....|    1|\n",
      "|[42.0,8010.76,0.0...|    1|\n",
      "|[37.0,9191.58,0.0...|    1|\n",
      "|[48.0,10356.02,0....|    1|\n",
      "|[44.0,11331.58,1....|    1|\n",
      "|[32.0,9885.12,1.0...|    1|\n",
      "|[43.0,14062.6,1.0...|    1|\n",
      "|[40.0,8066.94,1.0...|    1|\n",
      "|[30.0,11575.37,1....|    1|\n",
      "|[45.0,8771.02,1.0...|    1|\n",
      "|[45.0,8988.67,1.0...|    1|\n",
      "|[40.0,8283.32,1.0...|    1|\n",
      "|[41.0,6569.87,1.0...|    1|\n",
      "|[38.0,10494.82,1....|    1|\n",
      "|[45.0,8213.41,1.0...|    1|\n",
      "|[43.0,11226.88,0....|    1|\n",
      "|[53.0,5515.09,0.0...|    1|\n",
      "|[46.0,8046.4,1.0,...|    1|\n",
      "+--------------------+-----+\n",
      "only showing top 20 rows\n",
      "\n"
     ]
    }
   ],
   "source": [
    "final_data = output.select(\"features\", \"churn\")\n",
    "final_data.show()"
   ]
  },
  {
   "cell_type": "code",
   "execution_count": 23,
   "id": "73699c92",
   "metadata": {},
   "outputs": [],
   "source": [
    "train_data, test_data = final_data.randomSplit([0.7, 0.3])"
   ]
  },
  {
   "cell_type": "code",
   "execution_count": 26,
   "id": "90111b63",
   "metadata": {},
   "outputs": [],
   "source": [
    "from pyspark.ml.classification import LogisticRegression\n",
    "\n",
    "lr_churn = LogisticRegression(labelCol=\"churn\")\n",
    "fitted_churn_model = lr_churn.fit(train_data)"
   ]
  },
  {
   "cell_type": "code",
   "execution_count": 30,
   "id": "e54986e3",
   "metadata": {},
   "outputs": [
    {
     "name": "stdout",
     "output_type": "stream",
     "text": [
      "+-------+------------------+------------------+\n",
      "|summary|             churn|        prediction|\n",
      "+-------+------------------+------------------+\n",
      "|  count|               636|               636|\n",
      "|   mean|0.1761006289308176|0.1289308176100629|\n",
      "| stddev|0.3812055670449483|0.3353871260798749|\n",
      "|    min|               0.0|               0.0|\n",
      "|    max|               1.0|               1.0|\n",
      "+-------+------------------+------------------+\n",
      "\n"
     ]
    }
   ],
   "source": [
    "training_sum = fitted_churn_model.summary\n",
    "training_sum.predictions.describe().show()"
   ]
  },
  {
   "cell_type": "code",
   "execution_count": 32,
   "id": "8de5fa9f",
   "metadata": {},
   "outputs": [
    {
     "name": "stdout",
     "output_type": "stream",
     "text": [
      "+--------------------+-----+--------------------+--------------------+----------+\n",
      "|            features|churn|       rawPrediction|         probability|prediction|\n",
      "+--------------------+-----+--------------------+--------------------+----------+\n",
      "|[26.0,8787.39,1.0...|    1|[0.79250804171589...|[0.68836960191755...|       0.0|\n",
      "|[29.0,5900.78,1.0...|    0|[3.86289197182104...|[0.97942506153524...|       0.0|\n",
      "|[29.0,8688.17,1.0...|    1|[2.62028983848991...|[0.93215603844092...|       0.0|\n",
      "|[29.0,9378.24,0.0...|    0|[4.45668131152946...|[0.98853223630869...|       0.0|\n",
      "|[29.0,10203.18,1....|    0|[3.59684044470729...|[0.97332108435472...|       0.0|\n",
      "|[29.0,12711.15,0....|    0|[4.97934922218297...|[0.99316845354760...|       0.0|\n",
      "|[30.0,6744.87,0.0...|    0|[3.25394720317667...|[0.96281469109618...|       0.0|\n",
      "|[30.0,13473.35,0....|    0|[2.75539305210366...|[0.94021720752452...|       0.0|\n",
      "|[31.0,8688.21,0.0...|    0|[6.23373627452709...|[0.99804173511255...|       0.0|\n",
      "|[31.0,9574.89,0.0...|    0|[2.91035537493532...|[0.94835597247788...|       0.0|\n",
      "|[31.0,10182.6,1.0...|    0|[4.68134653159537...|[0.99081855233014...|       0.0|\n",
      "|[32.0,6367.22,1.0...|    0|[3.09367950780269...|[0.95663127675861...|       0.0|\n",
      "|[32.0,11540.86,0....|    0|[6.43886040004423...|[0.99840432327099...|       0.0|\n",
      "|[32.0,11715.72,0....|    0|[3.24204339216692...|[0.96238614827513...|       0.0|\n",
      "|[32.0,12403.6,0.0...|    0|[5.24489708007439...|[0.99475330845973...|       0.0|\n",
      "|[33.0,7750.54,1.0...|    0|[4.1517077524664,...|[0.98450631441329...|       0.0|\n",
      "|[33.0,8556.73,0.0...|    0|[3.56976826709505...|[0.97260901619501...|       0.0|\n",
      "|[33.0,12249.96,0....|    0|[5.29547315714036...|[0.99501077588352...|       0.0|\n",
      "|[33.0,13157.08,1....|    0|[1.55909017582492...|[0.82622276036864...|       0.0|\n",
      "|[33.0,13314.19,0....|    0|[2.71494167910228...|[0.93790258215187...|       0.0|\n",
      "+--------------------+-----+--------------------+--------------------+----------+\n",
      "only showing top 20 rows\n",
      "\n"
     ]
    }
   ],
   "source": [
    "from pyspark.ml.evaluation import BinaryClassificationEvaluator\n",
    "\n",
    "pred_and_labels = fitted_churn_model.evaluate(test_data)\n",
    "pred_and_labels.predictions.show()"
   ]
  },
  {
   "cell_type": "code",
   "execution_count": 34,
   "id": "8da86144",
   "metadata": {},
   "outputs": [],
   "source": [
    "churn_eval = BinaryClassificationEvaluator(labelCol=\"churn\", rawPredictionCol=\"prediction\")"
   ]
  },
  {
   "cell_type": "code",
   "execution_count": 36,
   "id": "e188e4ac",
   "metadata": {},
   "outputs": [],
   "source": [
    "auc = churn_eval.evaluate(pred_and_labels.predictions)"
   ]
  },
  {
   "cell_type": "code",
   "execution_count": 38,
   "id": "d0b9d734",
   "metadata": {},
   "outputs": [
    {
     "data": {
      "text/plain": [
       "0.7784117373078714"
      ]
     },
     "execution_count": 38,
     "metadata": {},
     "output_type": "execute_result"
    }
   ],
   "source": [
    "auc"
   ]
  },
  {
   "cell_type": "code",
   "execution_count": 39,
   "id": "634fa45d",
   "metadata": {},
   "outputs": [],
   "source": [
    "###PREDICT ON NEW DATA###"
   ]
  },
  {
   "cell_type": "code",
   "execution_count": 43,
   "id": "8ca5dcd0",
   "metadata": {},
   "outputs": [],
   "source": [
    "final_lr_model = lr_churn.fit(final_data)"
   ]
  },
  {
   "cell_type": "code",
   "execution_count": 49,
   "id": "4614e7e9",
   "metadata": {},
   "outputs": [],
   "source": [
    "new_customers = spark.read.csv(\"new_customers.csv\", header=True, inferSchema=True)"
   ]
  },
  {
   "cell_type": "code",
   "execution_count": 50,
   "id": "c84cac21",
   "metadata": {},
   "outputs": [
    {
     "name": "stdout",
     "output_type": "stream",
     "text": [
      "root\n",
      " |-- Names: string (nullable = true)\n",
      " |-- Age: double (nullable = true)\n",
      " |-- Total_Purchase: double (nullable = true)\n",
      " |-- Account_Manager: integer (nullable = true)\n",
      " |-- Years: double (nullable = true)\n",
      " |-- Num_Sites: double (nullable = true)\n",
      " |-- Onboard_date: timestamp (nullable = true)\n",
      " |-- Location: string (nullable = true)\n",
      " |-- Company: string (nullable = true)\n",
      "\n"
     ]
    }
   ],
   "source": [
    "new_customers.printSchema()"
   ]
  },
  {
   "cell_type": "code",
   "execution_count": 53,
   "id": "6b7c34cd",
   "metadata": {},
   "outputs": [],
   "source": [
    "test_new_customers = assembler.transform(new_costumers)\n",
    "final_results = final_lr_model.transform(test_new_customers)"
   ]
  },
  {
   "cell_type": "code",
   "execution_count": 56,
   "id": "cf998db8",
   "metadata": {},
   "outputs": [
    {
     "name": "stdout",
     "output_type": "stream",
     "text": [
      "+----------------+----------+\n",
      "|         Company|prediction|\n",
      "+----------------+----------+\n",
      "|        King Ltd|       0.0|\n",
      "|   Cannon-Benson|       1.0|\n",
      "|Barron-Robertson|       1.0|\n",
      "|   Sexton-Golden|       1.0|\n",
      "|        Wood LLC|       0.0|\n",
      "|   Parks-Robbins|       1.0|\n",
      "+----------------+----------+\n",
      "\n"
     ]
    }
   ],
   "source": [
    "final_results.select(\"Company\", \"prediction\").show()"
   ]
  }
 ],
 "metadata": {
  "kernelspec": {
   "display_name": "Python 3 (ipykernel)",
   "language": "python",
   "name": "python3"
  },
  "language_info": {
   "codemirror_mode": {
    "name": "ipython",
    "version": 3
   },
   "file_extension": ".py",
   "mimetype": "text/x-python",
   "name": "python",
   "nbconvert_exporter": "python",
   "pygments_lexer": "ipython3",
   "version": "3.10.9"
  }
 },
 "nbformat": 4,
 "nbformat_minor": 5
}
