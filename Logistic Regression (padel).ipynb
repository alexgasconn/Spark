{
 "cells": [
  {
   "cell_type": "code",
   "execution_count": 1,
   "id": "1b359965",
   "metadata": {},
   "outputs": [
    {
     "data": {
      "text/plain": [
       "[Row(id=1, date='16/10/2021', location='Montgat', teammate='Martina', rival1='JoanF', rival2='Marta', result='W', score='4-6, 6-4, 6-4', team='9', indiv='8'),\n",
       " Row(id=2, date='06/11/2021', location='Cerdanyola', teammate='Martina', rival1='Andreu', rival2='Mireia', result='L', score='4-6, 6-2, 4-6', team='8', indiv='6'),\n",
       " Row(id=3, date='13/11/2021', location='Polinyà', teammate='Martina', rival1='Uri', rival2='Carol', result='W', score='3-6, 6-3, 6-2', team='8,5', indiv='8,25')]"
      ]
     },
     "execution_count": 1,
     "metadata": {},
     "output_type": "execute_result"
    }
   ],
   "source": [
    "from pyspark.sql import SparkSession\n",
    "\n",
    "# Inicia la sesión de Spark\n",
    "spark = SparkSession.builder.appName(\"PadelLogReg\").getOrCreate()\n",
    "\n",
    "# Carga los datos desde el CSV\n",
    "data = spark.read.option(\"encoding\", \"Latin1\").csv(\"padel.csv\", header=True, inferSchema=True, sep=\";\")\n",
    "\n",
    "data.head(3)"
   ]
  },
  {
   "cell_type": "code",
   "execution_count": 2,
   "id": "4f7476d0",
   "metadata": {},
   "outputs": [],
   "source": [
    "from pyspark.sql.functions import regexp_replace\n",
    "from pyspark.sql.types import DateType\n",
    "from pyspark.sql.functions import unix_timestamp\n",
    "from pyspark.sql.functions import col, month, to_date\n",
    "\n",
    "data = data.withColumn(\"team\", regexp_replace(\"team\", \",\", \".\"))\n",
    "data = data.withColumn(\"indiv\", regexp_replace(\"indiv\", \",\", \".\"))\n",
    "data = data.withColumn(\"team\", data[\"team\"].cast(\"double\"))\n",
    "data = data.withColumn(\"indiv\", data[\"indiv\"].cast(\"double\"))\n",
    "data = data.filter(data['result'] != 'N')\n",
    "\n",
    "# Convertir la columna \"date\" al tipo de dato DateType\n",
    "data = data.withColumn(\"date\", to_date(col(\"date\"), \"dd/MM/yyyy\"))\n",
    "\n",
    "# Extraer el mes de la columna \"date\"\n",
    "data = data.withColumn(\"month\", month(\"date\"))"
   ]
  },
  {
   "cell_type": "code",
   "execution_count": 3,
   "id": "d3b42acd",
   "metadata": {},
   "outputs": [
    {
     "name": "stdout",
     "output_type": "stream",
     "text": [
      "['id', 'date', 'location', 'teammate', 'rival1', 'rival2', 'result', 'score', 'team', 'indiv', 'month']\n",
      "\n",
      "\n",
      "root\n",
      " |-- id: integer (nullable = true)\n",
      " |-- date: date (nullable = true)\n",
      " |-- location: string (nullable = true)\n",
      " |-- teammate: string (nullable = true)\n",
      " |-- rival1: string (nullable = true)\n",
      " |-- rival2: string (nullable = true)\n",
      " |-- result: string (nullable = true)\n",
      " |-- score: string (nullable = true)\n",
      " |-- team: double (nullable = true)\n",
      " |-- indiv: double (nullable = true)\n",
      " |-- month: integer (nullable = true)\n",
      "\n",
      "None\n"
     ]
    }
   ],
   "source": [
    "print(data.columns)\n",
    "print(\"\\n\")\n",
    "print(data.printSchema())"
   ]
  },
  {
   "cell_type": "code",
   "execution_count": 4,
   "id": "fdf5aedf",
   "metadata": {},
   "outputs": [
    {
     "name": "stdout",
     "output_type": "stream",
     "text": [
      "['id', 'date', 'location', 'teammate', 'rival1', 'rival2', 'result', 'score', 'team', 'indiv', 'month', 'location_index', 'teammate_index', 'rival1_index', 'rival2_index', 'result_index']\n"
     ]
    }
   ],
   "source": [
    "from pyspark.ml import Pipeline\n",
    "from pyspark.ml.feature import StringIndexer\n",
    "\n",
    "\n",
    "indexer1 = StringIndexer(inputCol=\"location\", outputCol=\"location_index\")\n",
    "indexer2 = StringIndexer(inputCol=\"teammate\", outputCol=\"teammate_index\")\n",
    "indexer3 = StringIndexer(inputCol=\"rival1\", outputCol=\"rival1_index\")\n",
    "indexer4 = StringIndexer(inputCol=\"rival2\", outputCol=\"rival2_index\")\n",
    "indexer5 = StringIndexer(inputCol=\"result\", outputCol=\"result_index\")\n",
    "\n",
    "indexers = [indexer1, indexer2, indexer3, indexer4, indexer5]\n",
    "\n",
    "pipeline = Pipeline(stages=indexers)\n",
    "indexed = pipeline.fit(data).transform(data)\n",
    "\n",
    "print(indexed.columns)"
   ]
  },
  {
   "cell_type": "code",
   "execution_count": 5,
   "id": "3367b2e5",
   "metadata": {},
   "outputs": [],
   "source": [
    "from pyspark.ml.linalg import Vectors\n",
    "from pyspark.ml.feature import VectorAssembler\n",
    "\n",
    "\n",
    "assembler = VectorAssembler(inputCols=[\n",
    "    'month', \n",
    "    'team', \n",
    "    'indiv', \n",
    "    'location_index', \n",
    "    'teammate_index', \n",
    "    'rival1_index', \n",
    "    'rival2_index'],\n",
    "outputCol=\"features\",\n",
    "handleInvalid=\"skip\")\n",
    "\n",
    "output = assembler.transform(indexed)"
   ]
  },
  {
   "cell_type": "code",
   "execution_count": 6,
   "id": "0ba35025",
   "metadata": {},
   "outputs": [
    {
     "name": "stdout",
     "output_type": "stream",
     "text": [
      "+--------------------+------------+\n",
      "|            features|result_index|\n",
      "+--------------------+------------+\n",
      "|[10.0,9.0,8.0,2.0...|         0.0|\n",
      "|[11.0,8.0,6.0,4.0...|         1.0|\n",
      "|[11.0,8.5,8.25,1....|         0.0|\n",
      "|[11.0,7.0,7.0,0.0...|         1.0|\n",
      "|[12.0,7.0,7.0,2.0...|         0.0|\n",
      "|[1.0,6.0,6.0,0.0,...|         1.0|\n",
      "|[1.0,7.0,9.0,1.0,...|         1.0|\n",
      "|[1.0,6.5,7.0,8.0,...|         1.0|\n",
      "|[2.0,5.0,3.0,0.0,...|         1.0|\n",
      "|[2.0,9.0,8.0,2.0,...|         0.0|\n",
      "|[4.0,9.0,6.0,4.0,...|         0.0|\n",
      "|[4.0,5.0,6.0,5.0,...|         0.0|\n",
      "|[6.0,5.0,5.0,2.0,...|         0.0|\n",
      "|[7.0,8.5,9.0,2.0,...|         0.0|\n",
      "|[8.0,9.0,8.5,0.0,...|         0.0|\n",
      "|[9.0,9.0,8.0,6.0,...|         0.0|\n",
      "|[9.0,2.0,7.0,4.0,...|         0.0|\n",
      "|[9.0,5.0,7.0,3.0,...|         0.0|\n",
      "|[10.0,8.0,7.0,0.0...|         1.0|\n",
      "|[10.0,7.5,6.0,3.0...|         0.0|\n",
      "+--------------------+------------+\n",
      "only showing top 20 rows\n",
      "\n"
     ]
    }
   ],
   "source": [
    "final_data = output.select(\"features\", \"result_index\")\n",
    "final_data.show()"
   ]
  },
  {
   "cell_type": "code",
   "execution_count": 7,
   "id": "8b3426ab",
   "metadata": {},
   "outputs": [],
   "source": [
    "final_data = output.select(\"features\", \"result_index\")"
   ]
  },
  {
   "cell_type": "code",
   "execution_count": 8,
   "id": "d6e08f5a",
   "metadata": {},
   "outputs": [
    {
     "name": "stdout",
     "output_type": "stream",
     "text": [
      "+-------+-------------------+\n",
      "|summary|       result_index|\n",
      "+-------+-------------------+\n",
      "|  count|                 29|\n",
      "|   mean|0.27586206896551724|\n",
      "| stddev|  0.454858826147342|\n",
      "|    min|                0.0|\n",
      "|    max|                1.0|\n",
      "+-------+-------------------+\n",
      "\n",
      "+-------+------------------+\n",
      "|summary|      result_index|\n",
      "+-------+------------------+\n",
      "|  count|                 6|\n",
      "|   mean|0.3333333333333333|\n",
      "| stddev|0.5163977794943223|\n",
      "|    min|               0.0|\n",
      "|    max|               1.0|\n",
      "+-------+------------------+\n",
      "\n"
     ]
    }
   ],
   "source": [
    "train_data, test_data = final_data.randomSplit([0.7, 0.3])\n",
    "\n",
    "train_data.describe().show()\n",
    "test_data.describe().show()"
   ]
  },
  {
   "cell_type": "code",
   "execution_count": 9,
   "id": "69798ea7",
   "metadata": {},
   "outputs": [],
   "source": [
    "from pyspark.ml.classification import LogisticRegression\n",
    "\n",
    "lr_padel = LogisticRegression(labelCol=\"result_index\")\n",
    "fitted_padel_model = lr_padel.fit(train_data)"
   ]
  },
  {
   "cell_type": "code",
   "execution_count": 10,
   "id": "6700eaee",
   "metadata": {},
   "outputs": [
    {
     "name": "stdout",
     "output_type": "stream",
     "text": [
      "+-------+-------------------+------------------+\n",
      "|summary|       result_index|        prediction|\n",
      "+-------+-------------------+------------------+\n",
      "|  count|                 29|                29|\n",
      "|   mean|0.27586206896551724|0.1724137931034483|\n",
      "| stddev|  0.454858826147342|0.3844258722192448|\n",
      "|    min|                0.0|               0.0|\n",
      "|    max|                1.0|               1.0|\n",
      "+-------+-------------------+------------------+\n",
      "\n"
     ]
    }
   ],
   "source": [
    "training_sum = fitted_padel_model.summary\n",
    "training_sum.predictions.describe().show()"
   ]
  },
  {
   "cell_type": "code",
   "execution_count": 11,
   "id": "304f87c8",
   "metadata": {},
   "outputs": [
    {
     "name": "stdout",
     "output_type": "stream",
     "text": [
      "+--------------------+------------+--------------------+--------------------+----------+\n",
      "|            features|result_index|       rawPrediction|         probability|prediction|\n",
      "+--------------------+------------+--------------------+--------------------+----------+\n",
      "|[1.0,7.0,9.0,1.0,...|         1.0|[1.31158789870238...|[0.78777874747933...|       0.0|\n",
      "|[6.0,5.0,5.0,2.0,...|         0.0|[-1.9809213190807...|[0.12122065900590...|       1.0|\n",
      "|[7.0,8.5,9.0,2.0,...|         0.0|[24.7123139295793...|[0.99999999998148...|       0.0|\n",
      "|[9.0,9.0,8.0,6.0,...|         0.0|[1.42833210055752...|[0.80664130468106...|       0.0|\n",
      "|[10.0,3.5,5.0,0.0...|         1.0|[26.4248435711297...|[0.99999999999665...|       0.0|\n",
      "|[10.0,6.0,5.0,1.0...|         0.0|[5.85564556545538...|[0.99714449097479...|       0.0|\n",
      "+--------------------+------------+--------------------+--------------------+----------+\n",
      "\n"
     ]
    }
   ],
   "source": [
    "from pyspark.ml.evaluation import BinaryClassificationEvaluator\n",
    "\n",
    "pred_and_labels = fitted_padel_model.evaluate(test_data)\n",
    "pred_and_labels.predictions.show()"
   ]
  },
  {
   "cell_type": "code",
   "execution_count": 12,
   "id": "7d834c6f",
   "metadata": {},
   "outputs": [],
   "source": [
    "padel_eval = BinaryClassificationEvaluator(labelCol=\"result_index\", rawPredictionCol=\"prediction\")"
   ]
  },
  {
   "cell_type": "code",
   "execution_count": 13,
   "id": "a5cb6634",
   "metadata": {},
   "outputs": [
    {
     "name": "stdout",
     "output_type": "stream",
     "text": [
      "AUC:  0.375\n"
     ]
    }
   ],
   "source": [
    "auc = padel_eval.evaluate(pred_and_labels.predictions)\n",
    "print(\"AUC: \", auc)"
   ]
  },
  {
   "cell_type": "code",
   "execution_count": null,
   "id": "d38386e1",
   "metadata": {},
   "outputs": [],
   "source": []
  }
 ],
 "metadata": {
  "kernelspec": {
   "display_name": "Python 3 (ipykernel)",
   "language": "python",
   "name": "python3"
  },
  "language_info": {
   "codemirror_mode": {
    "name": "ipython",
    "version": 3
   },
   "file_extension": ".py",
   "mimetype": "text/x-python",
   "name": "python",
   "nbconvert_exporter": "python",
   "pygments_lexer": "ipython3",
   "version": "3.10.9"
  }
 },
 "nbformat": 4,
 "nbformat_minor": 5
}
