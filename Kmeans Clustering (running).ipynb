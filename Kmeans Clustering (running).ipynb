{
 "cells": [
  {
   "cell_type": "code",
   "execution_count": 52,
   "metadata": {},
   "outputs": [],
   "source": [
    "from pyspark.sql import SparkSession\n",
    "import matplotlib.pyplot as plt\n",
    "\n",
    "# Inicia la sesión de Spark\n",
    "spark = SparkSession.builder.appName(\"RunningDataClustering\").getOrCreate()\n",
    "\n",
    "# Carga los datos desde el CSV\n",
    "data = spark.read.csv(\"running.csv\", header=True, inferSchema=True, sep=\";\")"
   ]
  },
  {
   "cell_type": "code",
   "execution_count": 53,
   "metadata": {},
   "outputs": [
    {
     "name": "stdout",
     "output_type": "stream",
     "text": [
      "Columns:  ['Date', 'Hour', 'Location', 'Time full', 'Time', 'Distance_km', 'Distance', 'Pace']\n",
      "+----+--------+----------------+\n",
      "|Time|Distance|        Location|\n",
      "+----+--------+----------------+\n",
      "|2035|    6800|     Unirun 2019|\n",
      "|1948|    4560|        Guinard�|\n",
      "|1857|    4590|        Guinard�|\n",
      "|2145|    5260|        Guinard�|\n",
      "|1526|    4250|        Guinard�|\n",
      "|2611|    6680|        Guinard�|\n",
      "|2974|    7010|   Vall d'Hebron|\n",
      "|2479|    5450|        Guinard�|\n",
      "|2568|    6720|        Guinard�|\n",
      "|1451|    3440|       Can Drag�|\n",
      "|3062|    7370|Diagonal + Forum|\n",
      "|2602|    7370|       Can Drag�|\n",
      "|4643|   11150| Passeig mar�tim|\n",
      "|3107|    8550| Passeig mar�tim|\n",
      "|1499|    4750|       Can Drag�|\n",
      "|1980|    5050|   Vall d'Hebron|\n",
      "|2076|    5510|   Vall d'Hebron|\n",
      "|1500|    4830|       Can Drag�|\n",
      "|2316|    7250|       Can Drag�|\n",
      "|2239|    6600|           Forum|\n",
      "+----+--------+----------------+\n",
      "only showing top 20 rows\n",
      "\n"
     ]
    }
   ],
   "source": [
    "print(\"Columns: \", data.columns)\n",
    "\n",
    "# Selecciona las columnas relevantes (tiempo y distancia)\n",
    "data = data.select(\"Time\", \"Distance\", \"Location\")\n",
    "\n",
    "# Elimina las filas con valores nulos\n",
    "data = data.dropna()\n",
    "\n",
    "data.head(3)\n",
    "\n",
    "data.show()"
   ]
  },
  {
   "cell_type": "code",
   "execution_count": 54,
   "metadata": {},
   "outputs": [
    {
     "name": "stdout",
     "output_type": "stream",
     "text": [
      "Columns:  ['Time', 'Distance', 'Location', 'IndexLocation']\n",
      "+----+--------+----------------+-------------+\n",
      "|Time|Distance|        Location|IndexLocation|\n",
      "+----+--------+----------------+-------------+\n",
      "|2035|    6800|     Unirun 2019|         33.0|\n",
      "|1948|    4560|        Guinard�|          3.0|\n",
      "|1857|    4590|        Guinard�|          3.0|\n",
      "|2145|    5260|        Guinard�|          3.0|\n",
      "|1526|    4250|        Guinard�|          3.0|\n",
      "|2611|    6680|        Guinard�|          3.0|\n",
      "|2974|    7010|   Vall d'Hebron|          5.0|\n",
      "|2479|    5450|        Guinard�|          3.0|\n",
      "|2568|    6720|        Guinard�|          3.0|\n",
      "|1451|    3440|       Can Drag�|          0.0|\n",
      "|3062|    7370|Diagonal + Forum|         21.0|\n",
      "|2602|    7370|       Can Drag�|          0.0|\n",
      "|4643|   11150| Passeig mar�tim|          7.0|\n",
      "|3107|    8550| Passeig mar�tim|          7.0|\n",
      "|1499|    4750|       Can Drag�|          0.0|\n",
      "|1980|    5050|   Vall d'Hebron|          5.0|\n",
      "|2076|    5510|   Vall d'Hebron|          5.0|\n",
      "|1500|    4830|       Can Drag�|          0.0|\n",
      "|2316|    7250|       Can Drag�|          0.0|\n",
      "|2239|    6600|           Forum|          2.0|\n",
      "+----+--------+----------------+-------------+\n",
      "only showing top 20 rows\n",
      "\n"
     ]
    }
   ],
   "source": [
    "from pyspark.ml.feature import StringIndexer\n",
    "\n",
    "# Creamos un objeto StringIndexer y especificamos la columna de entrada y la columna de salida\n",
    "indexer = StringIndexer(inputCol=\"Location\", outputCol=\"IndexLocation\")\n",
    "\n",
    "\n",
    "# Ajustamos el StringIndexer al DataFrame y transformamos los datos\n",
    "data = indexer.fit(data).transform(data)\n",
    "\n",
    "print(\"Columns: \", data.columns)\n",
    "data.show()"
   ]
  },
  {
   "cell_type": "code",
   "execution_count": 55,
   "metadata": {},
   "outputs": [
    {
     "name": "stdout",
     "output_type": "stream",
     "text": [
      "+----+--------+----------------+-------------+----------------+\n",
      "|Time|Distance|        Location|IndexLocation|        features|\n",
      "+----+--------+----------------+-------------+----------------+\n",
      "|2035|    6800|     Unirun 2019|         33.0| [2035.0,6800.0]|\n",
      "|1948|    4560|        Guinard�|          3.0| [1948.0,4560.0]|\n",
      "|1857|    4590|        Guinard�|          3.0| [1857.0,4590.0]|\n",
      "|2145|    5260|        Guinard�|          3.0| [2145.0,5260.0]|\n",
      "|1526|    4250|        Guinard�|          3.0| [1526.0,4250.0]|\n",
      "|2611|    6680|        Guinard�|          3.0| [2611.0,6680.0]|\n",
      "|2974|    7010|   Vall d'Hebron|          5.0| [2974.0,7010.0]|\n",
      "|2479|    5450|        Guinard�|          3.0| [2479.0,5450.0]|\n",
      "|2568|    6720|        Guinard�|          3.0| [2568.0,6720.0]|\n",
      "|1451|    3440|       Can Drag�|          0.0| [1451.0,3440.0]|\n",
      "|3062|    7370|Diagonal + Forum|         21.0| [3062.0,7370.0]|\n",
      "|2602|    7370|       Can Drag�|          0.0| [2602.0,7370.0]|\n",
      "|4643|   11150| Passeig mar�tim|          7.0|[4643.0,11150.0]|\n",
      "|3107|    8550| Passeig mar�tim|          7.0| [3107.0,8550.0]|\n",
      "|1499|    4750|       Can Drag�|          0.0| [1499.0,4750.0]|\n",
      "|1980|    5050|   Vall d'Hebron|          5.0| [1980.0,5050.0]|\n",
      "|2076|    5510|   Vall d'Hebron|          5.0| [2076.0,5510.0]|\n",
      "|1500|    4830|       Can Drag�|          0.0| [1500.0,4830.0]|\n",
      "|2316|    7250|       Can Drag�|          0.0| [2316.0,7250.0]|\n",
      "|2239|    6600|           Forum|          2.0| [2239.0,6600.0]|\n",
      "+----+--------+----------------+-------------+----------------+\n",
      "only showing top 20 rows\n",
      "\n"
     ]
    }
   ],
   "source": [
    "from pyspark.ml.feature import VectorAssembler\n",
    "# Convierte los datos a un formato adecuado para KMeans\n",
    "assembler = VectorAssembler(inputCols=['Time', 'Distance'], outputCol=\"features\")\n",
    "final_data = assembler.transform(data)\n",
    "\n",
    "final_data.show()"
   ]
  },
  {
   "cell_type": "code",
   "execution_count": 67,
   "metadata": {},
   "outputs": [],
   "source": [
    "from pyspark.ml.clustering import KMeans\n",
    "\n",
    "# Instancia el modelo KMeans con el número deseado de clusters\n",
    "kmeans = KMeans(featuresCol=\"features\", k=5)\n",
    "\n",
    "# Entrena el modelo\n",
    "model = kmeans.fit(final_data)"
   ]
  },
  {
   "cell_type": "code",
   "execution_count": 68,
   "metadata": {},
   "outputs": [
    {
     "name": "stdout",
     "output_type": "stream",
     "text": [
      "+----+--------+----------------+-------------+----------------+----------+\n",
      "|Time|Distance|        Location|IndexLocation|        features|prediction|\n",
      "+----+--------+----------------+-------------+----------------+----------+\n",
      "|2035|    6800|     Unirun 2019|         33.0| [2035.0,6800.0]|         3|\n",
      "|1948|    4560|        Guinard�|          3.0| [1948.0,4560.0]|         0|\n",
      "|1857|    4590|        Guinard�|          3.0| [1857.0,4590.0]|         0|\n",
      "|2145|    5260|        Guinard�|          3.0| [2145.0,5260.0]|         0|\n",
      "|1526|    4250|        Guinard�|          3.0| [1526.0,4250.0]|         0|\n",
      "|2611|    6680|        Guinard�|          3.0| [2611.0,6680.0]|         3|\n",
      "|2974|    7010|   Vall d'Hebron|          5.0| [2974.0,7010.0]|         3|\n",
      "|2479|    5450|        Guinard�|          3.0| [2479.0,5450.0]|         0|\n",
      "|2568|    6720|        Guinard�|          3.0| [2568.0,6720.0]|         3|\n",
      "|1451|    3440|       Can Drag�|          0.0| [1451.0,3440.0]|         4|\n",
      "|3062|    7370|Diagonal + Forum|         21.0| [3062.0,7370.0]|         3|\n",
      "|2602|    7370|       Can Drag�|          0.0| [2602.0,7370.0]|         3|\n",
      "|4643|   11150| Passeig mar�tim|          7.0|[4643.0,11150.0]|         2|\n",
      "|3107|    8550| Passeig mar�tim|          7.0| [3107.0,8550.0]|         3|\n",
      "|1499|    4750|       Can Drag�|          0.0| [1499.0,4750.0]|         0|\n",
      "|1980|    5050|   Vall d'Hebron|          5.0| [1980.0,5050.0]|         0|\n",
      "|2076|    5510|   Vall d'Hebron|          5.0| [2076.0,5510.0]|         0|\n",
      "|1500|    4830|       Can Drag�|          0.0| [1500.0,4830.0]|         0|\n",
      "|2316|    7250|       Can Drag�|          0.0| [2316.0,7250.0]|         3|\n",
      "|2239|    6600|           Forum|          2.0| [2239.0,6600.0]|         3|\n",
      "+----+--------+----------------+-------------+----------------+----------+\n",
      "only showing top 20 rows\n",
      "\n"
     ]
    }
   ],
   "source": [
    "# Obtiene las etiquetas de los clusters\n",
    "predictions = model.transform(final_data)\n",
    "\n",
    "# Visualiza los resultados\n",
    "predictions.show()"
   ]
  },
  {
   "cell_type": "code",
   "execution_count": 69,
   "metadata": {},
   "outputs": [
    {
     "data": {
      "image/png": "[encoded data removed]",
      "text/plain": [
       "<Figure size 640x480 with 1 Axes>"
      ]
     },
     "metadata": {},
     "output_type": "display_data"
    }
   ],
   "source": [
    "# Grafica los clusters\n",
    "centers = model.clusterCenters()\n",
    "plt.scatter(predictions.select('Time').collect(),\n",
    "            predictions.select('Distance').collect(),\n",
    "            c=predictions.select('prediction').collect(),\n",
    "            cmap='viridis')\n",
    "plt.scatter([c[0] for c in centers], [c[1] for c in centers], c='red', marker='x')\n",
    "plt.xlabel('Time')\n",
    "plt.ylabel('Distance')\n",
    "plt.title('KMeans Clustering')\n",
    "plt.show()"
   ]
  },
  {
   "cell_type": "code",
   "execution_count": 70,
   "metadata": {},
   "outputs": [
    {
     "name": "stdout",
     "output_type": "stream",
     "text": [
      "Within Set Sum of Squared Errors = 78793371.1492674\n",
      "Silhouette with squared euclidean distance = 0.737454401546357\n"
     ]
    }
   ],
   "source": [
    "from pyspark.ml.evaluation import ClusteringEvaluator\n",
    "\n",
    "# Calcula WSSSE (cuanto menor, mejor)\n",
    "wssse = model.summary.trainingCost\n",
    "print(\"Within Set Sum of Squared Errors = \" + str(wssse))\n",
    "\n",
    "# Calcula el coeficiente de Silhouette (1=buen cluster, -1=mal cluster)\n",
    "evaluator = ClusteringEvaluator()\n",
    "silhouette = evaluator.evaluate(predictions)\n",
    "print(\"Silhouette with squared euclidean distance = \" + str(silhouette))"
   ]
  },
  {
   "cell_type": "code",
   "execution_count": 18,
   "metadata": {},
   "outputs": [],
   "source": [
    "# Guarda los datos con las etiquetas de los clusters en un nuevo CSV\n",
    "predictions.select('Time', 'Distance', 'prediction').toPandas().to_csv('running_clustered.csv', index=False)"
   ]
  }
 ],
 "metadata": {
  "kernelspec": {
   "display_name": "Python 3",
   "language": "python",
   "name": "python3"
  },
  "language_info": {
   "codemirror_mode": {
    "name": "ipython",
    "version": 3
   },
   "file_extension": ".py",
   "mimetype": "text/x-python",
   "name": "python",
   "nbconvert_exporter": "python",
   "pygments_lexer": "ipython3",
   "version": "3.11.8"
  }
 },
 "nbformat": 4,
 "nbformat_minor": 2
}
